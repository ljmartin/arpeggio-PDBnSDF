{
 "cells": [
  {
   "cell_type": "code",
   "execution_count": 1,
   "id": "3ac26397-d68c-4882-b98f-ac9596e6e7df",
   "metadata": {},
   "outputs": [],
   "source": [
    "from arpeggio.core import interactions\n",
    "\n",
    "fname = './1x7a.pdb'"
   ]
  },
  {
   "cell_type": "code",
   "execution_count": 2,
   "id": "a920da7f-4f0e-4ccc-a198-fad3ffe054c7",
   "metadata": {},
   "outputs": [
    {
     "name": "stderr",
     "output_type": "stream",
     "text": [
      "/Users/ljmartin/miniconda3/envs/compchem/lib/python3.9/site-packages/Bio/PDB/StructureBuilder.py:89: PDBConstructionWarning: WARNING: Chain C is discontinuous at line 3221.\n",
      "  warnings.warn(\n",
      "==============================\n",
      "*** Open Babel Warning  in PerceiveBondOrders\n",
      "  Failed to kekulize aromatic bonds in OBMol::PerceiveBondOrders (title is ./1x7a.pdb)\n",
      "\n"
     ]
    }
   ],
   "source": [
    "i_complex = interactions.InteractionComplex(fname)"
   ]
  },
  {
   "cell_type": "code",
   "execution_count": 3,
   "id": "1c0a3dfe-5308-4ec2-9f99-2f09389d3233",
   "metadata": {},
   "outputs": [],
   "source": [
    "i_complex.initialize()"
   ]
  },
  {
   "cell_type": "code",
   "execution_count": 4,
   "id": "723c367d-8e6c-4b0f-a7e7-f400be259a65",
   "metadata": {},
   "outputs": [],
   "source": [
    "i_complex.run_arpeggio(\n",
    "    user_selections=[\"RESNAME:187\"],\n",
    "    interacting_cutoff=5.0,\n",
    "    vdw_comp=0.1,\n",
    "    include_sequence_adjacent=True\n",
    ")"
   ]
  },
  {
   "cell_type": "code",
   "execution_count": 5,
   "id": "317402f8-4734-47ee-b38d-a7b016f21593",
   "metadata": {},
   "outputs": [],
   "source": [
    "contacts = i_complex.get_contacts()"
   ]
  },
  {
   "cell_type": "code",
   "execution_count": 6,
   "id": "e0003bfa-ce5a-480a-8bcd-56499a45b663",
   "metadata": {},
   "outputs": [
    {
     "data": {
      "text/plain": [
       "{'INTER', 'INTRA_BINDING_SITE', 'INTRA_NON_SELECTION', 'INTRA_SELECTION'}"
      ]
     },
     "execution_count": 6,
     "metadata": {},
     "output_type": "execute_result"
    }
   ],
   "source": [
    "#list contact types - only interested in inter-molecular contacts\n",
    "set([i['interacting_entities'] for i in contacts])"
   ]
  },
  {
   "cell_type": "code",
   "execution_count": 7,
   "id": "849595d5-a93f-467a-8dc8-ff9447aeca1a",
   "metadata": {},
   "outputs": [
    {
     "data": {
      "text/plain": [
       "[{'bgn': {'label_comp_id': 'ASP',\n",
       "   'auth_seq_id': 189,\n",
       "   'auth_asym_id': 'C',\n",
       "   'auth_atom_id': 'OD2',\n",
       "   'pdbx_PDB_ins_code': ' '},\n",
       "  'end': {'label_comp_id': '187',\n",
       "   'auth_seq_id': 298,\n",
       "   'auth_asym_id': 'C',\n",
       "   'auth_atom_id': 'N3',\n",
       "   'pdbx_PDB_ins_code': ' '},\n",
       "  'type': 'atom-atom',\n",
       "  'distance': 2.61,\n",
       "  'contact': ['vdw_clash', 'hbond', 'ionic', 'polar'],\n",
       "  'interacting_entities': 'INTER'},\n",
       " {'bgn': {'label_comp_id': '187',\n",
       "   'auth_seq_id': 298,\n",
       "   'auth_asym_id': 'C',\n",
       "   'auth_atom_id': 'N3',\n",
       "   'pdbx_PDB_ins_code': ' '},\n",
       "  'end': {'label_comp_id': 'ASP',\n",
       "   'auth_seq_id': 189,\n",
       "   'auth_asym_id': 'C',\n",
       "   'auth_atom_id': 'CG',\n",
       "   'pdbx_PDB_ins_code': ' '},\n",
       "  'type': 'atom-atom',\n",
       "  'distance': 3.43,\n",
       "  'contact': ['proximal'],\n",
       "  'interacting_entities': 'INTER'},\n",
       " {'bgn': {'label_comp_id': 'ASP',\n",
       "   'auth_seq_id': 189,\n",
       "   'auth_asym_id': 'C',\n",
       "   'auth_atom_id': 'CB',\n",
       "   'pdbx_PDB_ins_code': ' '},\n",
       "  'end': {'label_comp_id': '187',\n",
       "   'auth_seq_id': 298,\n",
       "   'auth_asym_id': 'C',\n",
       "   'auth_atom_id': 'N3',\n",
       "   'pdbx_PDB_ins_code': ' '},\n",
       "  'type': 'atom-atom',\n",
       "  'distance': 4.38,\n",
       "  'contact': ['proximal'],\n",
       "  'interacting_entities': 'INTER'},\n",
       " {'bgn': {'label_comp_id': '187',\n",
       "   'auth_seq_id': 298,\n",
       "   'auth_asym_id': 'C',\n",
       "   'auth_atom_id': 'N3',\n",
       "   'pdbx_PDB_ins_code': ' '},\n",
       "  'end': {'label_comp_id': 'ASP',\n",
       "   'auth_seq_id': 189,\n",
       "   'auth_asym_id': 'C',\n",
       "   'auth_atom_id': 'OD1',\n",
       "   'pdbx_PDB_ins_code': ' '},\n",
       "  'type': 'atom-atom',\n",
       "  'distance': 4.04,\n",
       "  'contact': ['proximal'],\n",
       "  'interacting_entities': 'INTER'}]"
      ]
     },
     "execution_count": 7,
     "metadata": {},
     "output_type": "execute_result"
    }
   ],
   "source": [
    "[i for i in contacts if i['interacting_entities']=='INTER'][:4]"
   ]
  },
  {
   "cell_type": "code",
   "execution_count": null,
   "id": "4419aad5-20b0-43df-afdc-c36c4f7c9953",
   "metadata": {},
   "outputs": [],
   "source": []
  }
 ],
 "metadata": {
  "kernelspec": {
   "display_name": "Python 3 (ipykernel)",
   "language": "python",
   "name": "python3"
  },
  "language_info": {
   "codemirror_mode": {
    "name": "ipython",
    "version": 3
   },
   "file_extension": ".py",
   "mimetype": "text/x-python",
   "name": "python",
   "nbconvert_exporter": "python",
   "pygments_lexer": "ipython3",
   "version": "3.9.16"
  }
 },
 "nbformat": 4,
 "nbformat_minor": 5
}
